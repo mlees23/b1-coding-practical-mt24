{
 "cells": [
  {
   "cell_type": "code",
   "execution_count": 1,
   "metadata": {},
   "outputs": [],
   "source": [
    "# Add relevant Jupyter notebook extensions "
   ]
  },
  {
   "cell_type": "code",
   "execution_count": null,
   "metadata": {},
   "outputs": [],
   "source": [
    "# You can double-check your Python path like this...\n",
    "import sys  \n",
    "print(sys.path)"
   ]
  },
  {
   "cell_type": "markdown",
   "metadata": {},
   "source": [
    "# Simulate closed-loop\n",
    "After implementing your control functionality, you can simulate the closed-loop with code that looks something like this..."
   ]
  },
  {
   "cell_type": "code",
   "execution_count": 2,
   "metadata": {},
   "outputs": [
    {
     "name": "stdout",
     "output_type": "stream",
     "text": [
      "['c:\\\\Users\\\\Tilly\\\\anaconda3\\\\envs\\\\scientific_coding\\\\python312.zip', 'c:\\\\Users\\\\Tilly\\\\anaconda3\\\\envs\\\\scientific_coding\\\\DLLs', 'c:\\\\Users\\\\Tilly\\\\anaconda3\\\\envs\\\\scientific_coding\\\\Lib', 'c:\\\\Users\\\\Tilly\\\\anaconda3\\\\envs\\\\scientific_coding', '', 'c:\\\\Users\\\\Tilly\\\\anaconda3\\\\envs\\\\scientific_coding\\\\Lib\\\\site-packages', 'c:\\\\Users\\\\Tilly\\\\anaconda3\\\\envs\\\\scientific_coding\\\\Lib\\\\site-packages\\\\win32', 'c:\\\\Users\\\\Tilly\\\\anaconda3\\\\envs\\\\scientific_coding\\\\Lib\\\\site-packages\\\\win32\\\\lib', 'c:\\\\Users\\\\Tilly\\\\anaconda3\\\\envs\\\\scientific_coding\\\\Lib\\\\site-packages\\\\Pythonwin', 'c:\\\\Users\\\\Tilly\\\\anaconda3\\\\envs\\\\scientific_coding\\\\Lib\\\\site-packages\\\\setuptools\\\\_vendor', 'c:\\\\Users\\\\Tilly\\\\anaconda3\\\\envs\\\\scientific_coding\\\\b1-coding-practical-mt24\\\\uuv_mission', 'c:\\\\Users\\\\Tilly\\\\anaconda3\\\\envs\\\\scientific_coding\\\\b1-coding-practical-mt24\\\\uuv_mission']\n"
     ]
    },
    {
     "ename": "ModuleNotFoundError",
     "evalue": "No module named 'uuv_mission'",
     "output_type": "error",
     "traceback": [
      "\u001b[1;31m---------------------------------------------------------------------------\u001b[0m",
      "\u001b[1;31mModuleNotFoundError\u001b[0m                       Traceback (most recent call last)",
      "Cell \u001b[1;32mIn[2], line 12\u001b[0m\n\u001b[0;32m      9\u001b[0m \u001b[38;5;28mprint\u001b[39m(sys\u001b[38;5;241m.\u001b[39mpath)\n\u001b[0;32m     11\u001b[0m \u001b[38;5;66;03m# Import Mission from uuv_mission.dynamic\u001b[39;00m\n\u001b[1;32m---> 12\u001b[0m \u001b[38;5;28;01mfrom\u001b[39;00m \u001b[38;5;21;01muuv_mission\u001b[39;00m\u001b[38;5;21;01m.\u001b[39;00m\u001b[38;5;21;01mdynamic\u001b[39;00m \u001b[38;5;28;01mimport\u001b[39;00m Mission\n\u001b[0;32m     13\u001b[0m \u001b[38;5;28;01mfrom\u001b[39;00m \u001b[38;5;21;01muuv_mission\u001b[39;00m\u001b[38;5;21;01m.\u001b[39;00m\u001b[38;5;21;01mdynamic\u001b[39;00m \u001b[38;5;28;01mimport\u001b[39;00m Submarine\n\u001b[0;32m     14\u001b[0m \u001b[38;5;28;01mfrom\u001b[39;00m \u001b[38;5;21;01muuv_mission\u001b[39;00m\u001b[38;5;21;01m.\u001b[39;00m\u001b[38;5;21;01mdynamic\u001b[39;00m \u001b[38;5;28;01mimport\u001b[39;00m ClosedLoop\n",
      "\u001b[1;31mModuleNotFoundError\u001b[0m: No module named 'uuv_mission'"
     ]
    }
   ],
   "source": [
    "import sys\n",
    "import os\n",
    "\n",
    "# Add the path to the uuv_mission directory\n",
    "module_path = os.path.abspath(os.path.join('..', 'uuv_mission'))  # Go one level up to access uuv_mission\n",
    "sys.path.append(module_path)\n",
    "\n",
    "# Verify the new path has been added\n",
    "print(sys.path)\n",
    "\n",
    "# Import Mission from uuv_mission.dynamic\n",
    "from uuv_mission.dynamic import Mission\n",
    "from uuv_mission.dynamic import Submarine\n",
    "from uuv_mission.dynamic import ClosedLoop\n",
    "\n",
    "# Import PDController from control.pd_controller\n",
    "from uuv_mission.control import PDController\n",
    "\n",
    "\n",
    "sub = Submarine()\n",
    "# Instantiate your controller (depending on your implementation)\n",
    "controller = PDController(kp=1.0, kd=0.1)\n",
    "closed_loop = ClosedLoop(sub, controller)\n",
    "mission = Mission.from_csv(os.path.join('..', 'data', 'mission.csv'))  # Adjust path to the CSV file\n",
    "\n",
    "\n",
    "trajectory = closed_loop.simulate_with_random_disturbances(mission)\n",
    "trajectory.plot_completed_mission(mission)"
   ]
  }
 ],
 "metadata": {
  "kernelspec": {
   "display_name": "scientific_coding",
   "language": "python",
   "name": "python3"
  },
  "language_info": {
   "codemirror_mode": {
    "name": "ipython",
    "version": 3
   },
   "file_extension": ".py",
   "mimetype": "text/x-python",
   "name": "python",
   "nbconvert_exporter": "python",
   "pygments_lexer": "ipython3",
   "version": "3.12.7"
  }
 },
 "nbformat": 4,
 "nbformat_minor": 2
}
